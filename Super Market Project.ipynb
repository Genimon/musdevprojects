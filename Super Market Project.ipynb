{
 "cells": [
  {
   "cell_type": "markdown",
   "metadata": {},
   "source": [
    "#                                SUPERMARKET PROJECT"
   ]
  },
  {
   "cell_type": "code",
   "execution_count": 1,
   "metadata": {},
   "outputs": [],
   "source": [
    "import numpy as np\n",
    "import seaborn as sns\n",
    "import matplotlib.pyplot as plt\n",
    "import pandas as pd\n",
    "\n",
    "plt.rcParams['figure.figsize']= (10, 7)\n",
    "sns.set_style('darkgrid')"
   ]
  },
  {
   "cell_type": "code",
   "execution_count": 2,
   "metadata": {},
   "outputs": [],
   "source": [
    "%matplotlib inline"
   ]
  },
  {
   "cell_type": "code",
   "execution_count": 3,
   "metadata": {},
   "outputs": [],
   "source": [
    "df = pd.read_excel(\"Part_A STATSTICS AND DATA MODELLING COURSEWORK.xlsx\",engine='openpyxl')"
   ]
  },
  {
   "cell_type": "markdown",
   "metadata": {},
   "source": [
    "## Data Description"
   ]
  },
  {
   "cell_type": "code",
   "execution_count": 4,
   "metadata": {},
   "outputs": [
    {
     "data": {
      "text/plain": [
       "(101, 9)"
      ]
     },
     "execution_count": 4,
     "metadata": {},
     "output_type": "execute_result"
    }
   ],
   "source": [
    "df.shape"
   ]
  },
  {
   "cell_type": "markdown",
   "metadata": {},
   "source": [
    "The data contains 109 rows number and 9 columns number"
   ]
  },
  {
   "cell_type": "code",
   "execution_count": 5,
   "metadata": {},
   "outputs": [
    {
     "data": {
      "text/html": [
       "<div>\n",
       "<style scoped>\n",
       "    .dataframe tbody tr th:only-of-type {\n",
       "        vertical-align: middle;\n",
       "    }\n",
       "\n",
       "    .dataframe tbody tr th {\n",
       "        vertical-align: top;\n",
       "    }\n",
       "\n",
       "    .dataframe thead th {\n",
       "        text-align: right;\n",
       "    }\n",
       "</style>\n",
       "<table border=\"1\" class=\"dataframe\">\n",
       "  <thead>\n",
       "    <tr style=\"text-align: right;\">\n",
       "      <th></th>\n",
       "      <th>customer.id</th>\n",
       "      <th>express.no.transactions</th>\n",
       "      <th>express.total.spend</th>\n",
       "      <th>superstore.no.transactions</th>\n",
       "      <th>superstore.total.spend</th>\n",
       "      <th>gender</th>\n",
       "      <th>income</th>\n",
       "      <th>affluency</th>\n",
       "      <th>Region</th>\n",
       "    </tr>\n",
       "  </thead>\n",
       "  <tbody>\n",
       "    <tr>\n",
       "      <th>0</th>\n",
       "      <td>1668.0</td>\n",
       "      <td>54</td>\n",
       "      <td>1559.20</td>\n",
       "      <td>60</td>\n",
       "      <td>30874.62</td>\n",
       "      <td>Female</td>\n",
       "      <td>18901.724734</td>\n",
       "      <td>Mid</td>\n",
       "      <td>West Midlands</td>\n",
       "    </tr>\n",
       "    <tr>\n",
       "      <th>1</th>\n",
       "      <td>1827.0</td>\n",
       "      <td>59</td>\n",
       "      <td>619.05</td>\n",
       "      <td>78</td>\n",
       "      <td>36466.45</td>\n",
       "      <td>Male</td>\n",
       "      <td>24464.981612</td>\n",
       "      <td>High</td>\n",
       "      <td>North West</td>\n",
       "    </tr>\n",
       "    <tr>\n",
       "      <th>2</th>\n",
       "      <td>3003.0</td>\n",
       "      <td>59</td>\n",
       "      <td>211.50</td>\n",
       "      <td>91</td>\n",
       "      <td>45903.40</td>\n",
       "      <td>Male</td>\n",
       "      <td>31263.210081</td>\n",
       "      <td>High</td>\n",
       "      <td>North West</td>\n",
       "    </tr>\n",
       "    <tr>\n",
       "      <th>3</th>\n",
       "      <td>4398.0</td>\n",
       "      <td>58</td>\n",
       "      <td>1118.04</td>\n",
       "      <td>70</td>\n",
       "      <td>32175.17</td>\n",
       "      <td>Male</td>\n",
       "      <td>19742.126261</td>\n",
       "      <td>Low</td>\n",
       "      <td>Yorkshire &amp; Humber</td>\n",
       "    </tr>\n",
       "    <tr>\n",
       "      <th>4</th>\n",
       "      <td>5055.0</td>\n",
       "      <td>47</td>\n",
       "      <td>1318.61</td>\n",
       "      <td>62</td>\n",
       "      <td>31109.30</td>\n",
       "      <td>Male</td>\n",
       "      <td>16165.819721</td>\n",
       "      <td>Mid</td>\n",
       "      <td>London</td>\n",
       "    </tr>\n",
       "  </tbody>\n",
       "</table>\n",
       "</div>"
      ],
      "text/plain": [
       "   customer.id  express.no.transactions  express.total.spend  \\\n",
       "0       1668.0                       54              1559.20   \n",
       "1       1827.0                       59               619.05   \n",
       "2       3003.0                       59               211.50   \n",
       "3       4398.0                       58              1118.04   \n",
       "4       5055.0                       47              1318.61   \n",
       "\n",
       "   superstore.no.transactions  superstore.total.spend  gender        income  \\\n",
       "0                          60                30874.62  Female  18901.724734   \n",
       "1                          78                36466.45    Male  24464.981612   \n",
       "2                          91                45903.40    Male  31263.210081   \n",
       "3                          70                32175.17    Male  19742.126261   \n",
       "4                          62                31109.30    Male  16165.819721   \n",
       "\n",
       "  affluency              Region  \n",
       "0       Mid       West Midlands  \n",
       "1      High          North West  \n",
       "2      High          North West  \n",
       "3       Low  Yorkshire & Humber  \n",
       "4       Mid              London  "
      ]
     },
     "execution_count": 5,
     "metadata": {},
     "output_type": "execute_result"
    }
   ],
   "source": [
    "df.head()"
   ]
  },
  {
   "cell_type": "markdown",
   "metadata": {},
   "source": [
    "### Statistical Summary\n",
    "\n",
    "#### Measure of Location: Mean, Median, Mode and Spread: Standard Variation, Variance etc. of variables"
   ]
  },
  {
   "cell_type": "code",
   "execution_count": 6,
   "metadata": {},
   "outputs": [
    {
     "data": {
      "text/plain": [
       "count    1.010000e+02\n",
       "mean     4.957427e+04\n",
       "std      2.467379e+05\n",
       "min      5.793800e+03\n",
       "25%      2.023542e+04\n",
       "50%      2.590023e+04\n",
       "75%      3.062797e+04\n",
       "max      2.503501e+06\n",
       "Name: income, dtype: float64"
      ]
     },
     "execution_count": 6,
     "metadata": {},
     "output_type": "execute_result"
    }
   ],
   "source": [
    "df['income'].describe()"
   ]
  },
  {
   "cell_type": "code",
   "execution_count": 7,
   "metadata": {},
   "outputs": [
    {
     "data": {
      "text/plain": [
       "count    1.010000e+02\n",
       "mean     4.957427e+04\n",
       "std      2.467379e+05\n",
       "min      5.793800e+03\n",
       "25%      2.023542e+04\n",
       "50%      2.590023e+04\n",
       "75%      3.062797e+04\n",
       "max      2.503501e+06\n",
       "Name: income, dtype: float64"
      ]
     },
     "execution_count": 7,
     "metadata": {},
     "output_type": "execute_result"
    }
   ],
   "source": [
    "df['income'].describe()"
   ]
  },
  {
   "cell_type": "code",
   "execution_count": 8,
   "metadata": {
    "scrolled": true
   },
   "outputs": [
    {
     "data": {
      "text/plain": [
       "count     101.000000\n",
       "mean      100.475248\n",
       "std       500.130095\n",
       "min         0.000000\n",
       "25%        41.000000\n",
       "50%        52.000000\n",
       "75%        62.000000\n",
       "max      5074.000000\n",
       "Name: express.no.transactions, dtype: float64"
      ]
     },
     "execution_count": 8,
     "metadata": {},
     "output_type": "execute_result"
    }
   ],
   "source": [
    "df['express.no.transactions'].describe()"
   ]
  },
  {
   "cell_type": "code",
   "execution_count": 9,
   "metadata": {},
   "outputs": [
    {
     "data": {
      "text/plain": [
       "count    1.010000e+02\n",
       "mean     7.707882e+04\n",
       "std      3.835569e+05\n",
       "min      3.000228e+04\n",
       "25%      3.229539e+04\n",
       "50%      3.646645e+04\n",
       "75%      4.217209e+04\n",
       "max      3.892480e+06\n",
       "Name: superstore.total.spend, dtype: float64"
      ]
     },
     "execution_count": 9,
     "metadata": {},
     "output_type": "execute_result"
    }
   ],
   "source": [
    "df['superstore.total.spend'].describe()"
   ]
  },
  {
   "cell_type": "code",
   "execution_count": 10,
   "metadata": {},
   "outputs": [
    {
     "data": {
      "text/plain": [
       "count     101.000000\n",
       "mean      149.683168\n",
       "std       744.813909\n",
       "min        22.000000\n",
       "25%        66.000000\n",
       "50%        74.000000\n",
       "75%        86.000000\n",
       "max      7559.000000\n",
       "Name: superstore.no.transactions, dtype: float64"
      ]
     },
     "execution_count": 10,
     "metadata": {},
     "output_type": "execute_result"
    }
   ],
   "source": [
    "df['superstore.no.transactions'].describe()"
   ]
  },
  {
   "cell_type": "markdown",
   "metadata": {},
   "source": [
    "##### Creating Dummy Variable for Gender and Region Variables\n",
    "\n",
    "Dummy variables were created for Female from \"Gender\" variable and also for London from \"Region\" variable. \n",
    "\n",
    "\n",
    "The respective statistical summaries were made afterwards from the dummy variables created."
   ]
  },
  {
   "cell_type": "code",
   "execution_count": 11,
   "metadata": {},
   "outputs": [
    {
     "data": {
      "text/plain": [
       "count    100.000000\n",
       "mean       0.580000\n",
       "std        0.496045\n",
       "min        0.000000\n",
       "25%        0.000000\n",
       "50%        1.000000\n",
       "75%        1.000000\n",
       "max        1.000000\n",
       "Name: gender, dtype: float64"
      ]
     },
     "execution_count": 11,
     "metadata": {},
     "output_type": "execute_result"
    }
   ],
   "source": [
    "df['gender']= df['gender'].map({'Female': 1, 'Male':0})\n",
    "df['gender'].describe()"
   ]
  },
  {
   "cell_type": "code",
   "execution_count": 12,
   "metadata": {},
   "outputs": [
    {
     "data": {
      "text/html": [
       "<div>\n",
       "<style scoped>\n",
       "    .dataframe tbody tr th:only-of-type {\n",
       "        vertical-align: middle;\n",
       "    }\n",
       "\n",
       "    .dataframe tbody tr th {\n",
       "        vertical-align: top;\n",
       "    }\n",
       "\n",
       "    .dataframe thead th {\n",
       "        text-align: right;\n",
       "    }\n",
       "</style>\n",
       "<table border=\"1\" class=\"dataframe\">\n",
       "  <thead>\n",
       "    <tr style=\"text-align: right;\">\n",
       "      <th></th>\n",
       "      <th>0</th>\n",
       "      <th>Central</th>\n",
       "      <th>Central England</th>\n",
       "      <th>East</th>\n",
       "      <th>East Midlands</th>\n",
       "      <th>London</th>\n",
       "      <th>North East</th>\n",
       "      <th>North West</th>\n",
       "      <th>South East</th>\n",
       "      <th>South West</th>\n",
       "      <th>West Midlands</th>\n",
       "      <th>Yorkshire &amp; Humber</th>\n",
       "    </tr>\n",
       "  </thead>\n",
       "  <tbody>\n",
       "    <tr>\n",
       "      <th>0</th>\n",
       "      <td>0</td>\n",
       "      <td>0</td>\n",
       "      <td>0</td>\n",
       "      <td>0</td>\n",
       "      <td>0</td>\n",
       "      <td>0</td>\n",
       "      <td>0</td>\n",
       "      <td>0</td>\n",
       "      <td>0</td>\n",
       "      <td>0</td>\n",
       "      <td>1</td>\n",
       "      <td>0</td>\n",
       "    </tr>\n",
       "    <tr>\n",
       "      <th>1</th>\n",
       "      <td>0</td>\n",
       "      <td>0</td>\n",
       "      <td>0</td>\n",
       "      <td>0</td>\n",
       "      <td>0</td>\n",
       "      <td>0</td>\n",
       "      <td>0</td>\n",
       "      <td>1</td>\n",
       "      <td>0</td>\n",
       "      <td>0</td>\n",
       "      <td>0</td>\n",
       "      <td>0</td>\n",
       "    </tr>\n",
       "    <tr>\n",
       "      <th>2</th>\n",
       "      <td>0</td>\n",
       "      <td>0</td>\n",
       "      <td>0</td>\n",
       "      <td>0</td>\n",
       "      <td>0</td>\n",
       "      <td>0</td>\n",
       "      <td>0</td>\n",
       "      <td>1</td>\n",
       "      <td>0</td>\n",
       "      <td>0</td>\n",
       "      <td>0</td>\n",
       "      <td>0</td>\n",
       "    </tr>\n",
       "    <tr>\n",
       "      <th>3</th>\n",
       "      <td>0</td>\n",
       "      <td>0</td>\n",
       "      <td>0</td>\n",
       "      <td>0</td>\n",
       "      <td>0</td>\n",
       "      <td>0</td>\n",
       "      <td>0</td>\n",
       "      <td>0</td>\n",
       "      <td>0</td>\n",
       "      <td>0</td>\n",
       "      <td>0</td>\n",
       "      <td>1</td>\n",
       "    </tr>\n",
       "    <tr>\n",
       "      <th>4</th>\n",
       "      <td>0</td>\n",
       "      <td>0</td>\n",
       "      <td>0</td>\n",
       "      <td>0</td>\n",
       "      <td>0</td>\n",
       "      <td>1</td>\n",
       "      <td>0</td>\n",
       "      <td>0</td>\n",
       "      <td>0</td>\n",
       "      <td>0</td>\n",
       "      <td>0</td>\n",
       "      <td>0</td>\n",
       "    </tr>\n",
       "  </tbody>\n",
       "</table>\n",
       "</div>"
      ],
      "text/plain": [
       "   0  Central  Central England  East  East Midlands  London  North East  \\\n",
       "0  0        0                0     0              0       0           0   \n",
       "1  0        0                0     0              0       0           0   \n",
       "2  0        0                0     0              0       0           0   \n",
       "3  0        0                0     0              0       0           0   \n",
       "4  0        0                0     0              0       1           0   \n",
       "\n",
       "   North West  South East  South West  West Midlands  Yorkshire & Humber  \n",
       "0           0           0           0              1                   0  \n",
       "1           1           0           0              0                   0  \n",
       "2           1           0           0              0                   0  \n",
       "3           0           0           0              0                   1  \n",
       "4           0           0           0              0                   0  "
      ]
     },
     "execution_count": 12,
     "metadata": {},
     "output_type": "execute_result"
    }
   ],
   "source": [
    "df_region= pd.get_dummies(df['Region'])\n",
    "df_region.head()"
   ]
  },
  {
   "cell_type": "code",
   "execution_count": 13,
   "metadata": {
    "scrolled": true
   },
   "outputs": [
    {
     "name": "stdout",
     "output_type": "stream",
     "text": [
      "count    101.000000\n",
      "mean       0.009901\n",
      "std        0.099504\n",
      "min        0.000000\n",
      "25%        0.000000\n",
      "50%        0.000000\n",
      "75%        0.000000\n",
      "max        1.000000\n",
      "Name: 0, dtype: float64\n",
      "count    101.000000\n",
      "mean       0.009901\n",
      "std        0.099504\n",
      "min        0.000000\n",
      "25%        0.000000\n",
      "50%        0.000000\n",
      "75%        0.000000\n",
      "max        1.000000\n",
      "Name: Central, dtype: float64\n",
      "count    101.000000\n",
      "mean       0.019802\n",
      "std        0.140014\n",
      "min        0.000000\n",
      "25%        0.000000\n",
      "50%        0.000000\n",
      "75%        0.000000\n",
      "max        1.000000\n",
      "Name: Central England, dtype: float64\n",
      "count    101.000000\n",
      "mean       0.059406\n",
      "std        0.237562\n",
      "min        0.000000\n",
      "25%        0.000000\n",
      "50%        0.000000\n",
      "75%        0.000000\n",
      "max        1.000000\n",
      "Name: East, dtype: float64\n",
      "count    101.000000\n",
      "mean       0.029703\n",
      "std        0.170613\n",
      "min        0.000000\n",
      "25%        0.000000\n",
      "50%        0.000000\n",
      "75%        0.000000\n",
      "max        1.000000\n",
      "Name: East Midlands, dtype: float64\n",
      "count    101.000000\n",
      "mean       0.168317\n",
      "std        0.376013\n",
      "min        0.000000\n",
      "25%        0.000000\n",
      "50%        0.000000\n",
      "75%        0.000000\n",
      "max        1.000000\n",
      "Name: London, dtype: float64\n",
      "count    101.000000\n",
      "mean       0.049505\n",
      "std        0.218002\n",
      "min        0.000000\n",
      "25%        0.000000\n",
      "50%        0.000000\n",
      "75%        0.000000\n",
      "max        1.000000\n",
      "Name: North East, dtype: float64\n",
      "count    101.000000\n",
      "mean       0.138614\n",
      "std        0.347267\n",
      "min        0.000000\n",
      "25%        0.000000\n",
      "50%        0.000000\n",
      "75%        0.000000\n",
      "max        1.000000\n",
      "Name: North West, dtype: float64\n",
      "count    101.000000\n",
      "mean       0.198020\n",
      "std        0.400495\n",
      "min        0.000000\n",
      "25%        0.000000\n",
      "50%        0.000000\n",
      "75%        0.000000\n",
      "max        1.000000\n",
      "Name: South East, dtype: float64\n",
      "count    101.000000\n",
      "mean       0.059406\n",
      "std        0.237562\n",
      "min        0.000000\n",
      "25%        0.000000\n",
      "50%        0.000000\n",
      "75%        0.000000\n",
      "max        1.000000\n",
      "Name: South West, dtype: float64\n",
      "count    101.000000\n",
      "mean       0.108911\n",
      "std        0.313081\n",
      "min        0.000000\n",
      "25%        0.000000\n",
      "50%        0.000000\n",
      "75%        0.000000\n",
      "max        1.000000\n",
      "Name: West Midlands, dtype: float64\n",
      "count    101.000000\n",
      "mean       0.148515\n",
      "std        0.357383\n",
      "min        0.000000\n",
      "25%        0.000000\n",
      "50%        0.000000\n",
      "75%        0.000000\n",
      "max        1.000000\n",
      "Name: Yorkshire & Humber, dtype: float64\n"
     ]
    }
   ],
   "source": [
    "for col in df_region.columns:\n",
    "    print(df_region[col].describe())"
   ]
  },
  {
   "cell_type": "markdown",
   "metadata": {},
   "source": [
    "#### Discussing the meaning of the quartiles of the variable \"income\""
   ]
  },
  {
   "cell_type": "code",
   "execution_count": 14,
   "metadata": {},
   "outputs": [
    {
     "data": {
      "text/plain": [
       "count    1.010000e+02\n",
       "mean     4.957427e+04\n",
       "std      2.467379e+05\n",
       "min      5.793800e+03\n",
       "25%      2.023542e+04\n",
       "50%      2.590023e+04\n",
       "75%      3.062797e+04\n",
       "max      2.503501e+06\n",
       "Name: income, dtype: float64"
      ]
     },
     "execution_count": 14,
     "metadata": {},
     "output_type": "execute_result"
    }
   ],
   "source": [
    "df['income'].describe()"
   ]
  },
  {
   "cell_type": "markdown",
   "metadata": {},
   "source": [
    "Based on the quartiles values of the variable 'income', it shows that 25% of the customer of both stores average less than 21K in terms of their respective incomes; 50% of the customers average less than 26K while 75% of the customers average less than 31K in terms of their respective income with no peculiarity as to their gender."
   ]
  },
  {
   "cell_type": "markdown",
   "metadata": {},
   "source": [
    "#### Comparing the spending pattern of Superstores to Express stores"
   ]
  },
  {
   "cell_type": "code",
   "execution_count": 15,
   "metadata": {},
   "outputs": [
    {
     "data": {
      "text/html": [
       "<div>\n",
       "<style scoped>\n",
       "    .dataframe tbody tr th:only-of-type {\n",
       "        vertical-align: middle;\n",
       "    }\n",
       "\n",
       "    .dataframe tbody tr th {\n",
       "        vertical-align: top;\n",
       "    }\n",
       "\n",
       "    .dataframe thead th {\n",
       "        text-align: right;\n",
       "    }\n",
       "</style>\n",
       "<table border=\"1\" class=\"dataframe\">\n",
       "  <thead>\n",
       "    <tr style=\"text-align: right;\">\n",
       "      <th></th>\n",
       "      <th>Express</th>\n",
       "      <th>Superstore</th>\n",
       "    </tr>\n",
       "  </thead>\n",
       "  <tbody>\n",
       "    <tr>\n",
       "      <th>count</th>\n",
       "      <td>101.000000</td>\n",
       "      <td>1.010000e+02</td>\n",
       "    </tr>\n",
       "    <tr>\n",
       "      <th>mean</th>\n",
       "      <td>1653.380396</td>\n",
       "      <td>7.707882e+04</td>\n",
       "    </tr>\n",
       "    <tr>\n",
       "      <th>std</th>\n",
       "      <td>8273.445820</td>\n",
       "      <td>3.835569e+05</td>\n",
       "    </tr>\n",
       "    <tr>\n",
       "      <th>min</th>\n",
       "      <td>0.000000</td>\n",
       "      <td>3.000228e+04</td>\n",
       "    </tr>\n",
       "    <tr>\n",
       "      <th>25%</th>\n",
       "      <td>266.730000</td>\n",
       "      <td>3.229539e+04</td>\n",
       "    </tr>\n",
       "    <tr>\n",
       "      <th>50%</th>\n",
       "      <td>621.600000</td>\n",
       "      <td>3.646645e+04</td>\n",
       "    </tr>\n",
       "    <tr>\n",
       "      <th>75%</th>\n",
       "      <td>1118.040000</td>\n",
       "      <td>4.217209e+04</td>\n",
       "    </tr>\n",
       "    <tr>\n",
       "      <th>max</th>\n",
       "      <td>83495.710000</td>\n",
       "      <td>3.892480e+06</td>\n",
       "    </tr>\n",
       "  </tbody>\n",
       "</table>\n",
       "</div>"
      ],
      "text/plain": [
       "            Express    Superstore\n",
       "count    101.000000  1.010000e+02\n",
       "mean    1653.380396  7.707882e+04\n",
       "std     8273.445820  3.835569e+05\n",
       "min        0.000000  3.000228e+04\n",
       "25%      266.730000  3.229539e+04\n",
       "50%      621.600000  3.646645e+04\n",
       "75%     1118.040000  4.217209e+04\n",
       "max    83495.710000  3.892480e+06"
      ]
     },
     "execution_count": 15,
     "metadata": {},
     "output_type": "execute_result"
    }
   ],
   "source": [
    "compare_total_spend= pd.DataFrame(index= ['count', 'mean', 'std', 'min', '25%', '50%', '75%', 'max'])\n",
    "compare_total_spend['Express']= df['express.total.spend'].describe()\n",
    "compare_total_spend['Superstore']= df['superstore.total.spend'].describe()\n",
    "compare_total_spend.head(10)"
   ]
  },
  {
   "cell_type": "markdown",
   "metadata": {},
   "source": [
    "Based on the information provided above it clearly shows the discrepancies in the spending pattern of the customers of both stores. It can be inferred from the information that Express store could be categorised as a store that retails low priced goods while those of the Superstore are luxury goods and services. \n",
    "\n",
    "Based on the mean value, it shows the average spending of those in Express store compare to their counterpart at the Superstore with the spending at an average of 46 times those at the Express store.\n",
    "\n",
    "The spending pattern will make sense depending on the factors of locality, goods and services provided in the respective stores, the class of residents that reside in the respective stores locality."
   ]
  },
  {
   "cell_type": "markdown",
   "metadata": {},
   "source": [
    "#### Percentage of Female consumers and London consumers from the data sample."
   ]
  },
  {
   "cell_type": "code",
   "execution_count": 16,
   "metadata": {},
   "outputs": [
    {
     "data": {
      "text/plain": [
       "1.0    0.58\n",
       "0.0    0.42\n",
       "Name: gender, dtype: float64"
      ]
     },
     "execution_count": 16,
     "metadata": {},
     "output_type": "execute_result"
    }
   ],
   "source": [
    "df['gender'].value_counts(normalize= True)"
   ]
  },
  {
   "cell_type": "code",
   "execution_count": 23,
   "metadata": {
    "scrolled": true
   },
   "outputs": [
    {
     "name": "stderr",
     "output_type": "stream",
     "text": [
      "C:\\Users\\USER\\anaconda3\\lib\\site-packages\\seaborn\\distributions.py:2551: FutureWarning: `distplot` is a deprecated function and will be removed in a future version. Please adapt your code to use either `displot` (a figure-level function with similar flexibility) or `histplot` (an axes-level function for histograms).\n",
      "  warnings.warn(msg, FutureWarning)\n"
     ]
    },
    {
     "data": {
      "image/png": "[encoded data removed]",
      "text/plain": [
       "<Figure size 864x360 with 1 Axes>"
      ]
     },
     "metadata": {},
     "output_type": "display_data"
    }
   ],
   "source": [
    "sns.distplot(df['gender'])\n",
    "sns.set_style('darkgrid')\n",
    "plt.rcParams['figure.figsize']= (16, 9)"
   ]
  },
  {
   "cell_type": "markdown",
   "metadata": {},
   "source": [
    "58% of both stores consumers are Female consumers"
   ]
  },
  {
   "cell_type": "code",
   "execution_count": 18,
   "metadata": {},
   "outputs": [
    {
     "data": {
      "text/plain": [
       "South East            0.198020\n",
       "London                0.168317\n",
       "Yorkshire & Humber    0.148515\n",
       "North West            0.138614\n",
       "West Midlands         0.108911\n",
       "East                  0.059406\n",
       "South West            0.059406\n",
       "North East            0.049505\n",
       "East Midlands         0.029703\n",
       "Central England       0.019802\n",
       "Central               0.009901\n",
       "0                     0.009901\n",
       "Name: Region, dtype: float64"
      ]
     },
     "execution_count": 18,
     "metadata": {},
     "output_type": "execute_result"
    }
   ],
   "source": [
    "df['Region'].value_counts(normalize= True)"
   ]
  },
  {
   "cell_type": "code",
   "execution_count": 19,
   "metadata": {
    "scrolled": true
   },
   "outputs": [
    {
     "data": {
      "image/png": "[encoded data removed]",
      "text/plain": [
       "<Figure size 1152x648 with 1 Axes>"
      ]
     },
     "metadata": {},
     "output_type": "display_data"
    }
   ],
   "source": [
    "sns.barplot(x= 'index', y= 'Region', data= df['Region'].value_counts().reset_index() )\n",
    "plt.xticks(rotation= 45)\n",
    "\n",
    "sns.set_style('darkgrid')\n",
    "plt.rcParams['figure.figsize']= (12, 5)"
   ]
  },
  {
   "cell_type": "markdown",
   "metadata": {},
   "source": [
    "17% of the both stores' consumers are London consumers"
   ]
  },
  {
   "cell_type": "markdown",
   "metadata": {},
   "source": [
    "#### Average total spending between females and males in superstores"
   ]
  },
  {
   "cell_type": "code",
   "execution_count": 20,
   "metadata": {},
   "outputs": [
    {
     "data": {
      "text/plain": [
       "gender\n",
       "0.0    37937.069524\n",
       "1.0    39640.058621\n",
       "Name: superstore.total.spend, dtype: float64"
      ]
     },
     "execution_count": 20,
     "metadata": {},
     "output_type": "execute_result"
    }
   ],
   "source": [
    "df.groupby('gender').mean()['superstore.total.spend']"
   ]
  },
  {
   "cell_type": "markdown",
   "metadata": {},
   "source": [
    "#### Average total spending between Londoners and non-Londoners in express stores"
   ]
  },
  {
   "cell_type": "code",
   "execution_count": 21,
   "metadata": {},
   "outputs": [],
   "source": [
    "trans_reg= {'West Midlands': 0, 'North West': 0, 'Yorkshire & Humber': 0, 'London': 1,\n",
    "             'East': 0, 'South East': 0, 'South West': 0, 'North East': 0, 'Central': 0,\n",
    "             'East Midlands': 0, 'Central England': 0, 'None': 0}\n",
    "df['Region']= df['Region'].map(trans_reg)"
   ]
  },
  {
   "cell_type": "code",
   "execution_count": 22,
   "metadata": {},
   "outputs": [
    {
     "data": {
      "text/plain": [
       "Region\n",
       "0.0     751.053614\n",
       "1.0    1244.603529\n",
       "Name: express.total.spend, dtype: float64"
      ]
     },
     "execution_count": 22,
     "metadata": {},
     "output_type": "execute_result"
    }
   ],
   "source": [
    "df.groupby('Region').mean()['express.total.spend']"
   ]
  },
  {
   "cell_type": "markdown",
   "metadata": {},
   "source": [
    "The average total spending of the females and males at the superstores shows that female consumers spend more at the store when comapre to their male counterpart. The superstores has been adjudged from previous data analysis to be of luxury goods and services providers as such it can be deduced that females spend more on luxury goods and services comapre to their male counterpart.\n",
    "\n",
    "\n",
    "\n",
    "The average total spending of Londoners compare to those who are not Londoners dictate for a fact that Londoners spend more at the Express stores compare to the non-Londoners. Though the Londoners are not the major consumers but they have significant percentage of consumerswhen compare with their counterparts.\n",
    "In similar vein as to the comparison of male and female consumers. The Express stores have been adjudged as the stores that provides low priced goods and services as such it can be deduced from the analysis that consumers from Londoners are more inclined towards patronizing low priced goods and services."
   ]
  },
  {
   "cell_type": "code",
   "execution_count": null,
   "metadata": {},
   "outputs": [],
   "source": []
  },
  {
   "cell_type": "code",
   "execution_count": null,
   "metadata": {},
   "outputs": [],
   "source": []
  }
 ],
 "metadata": {
  "kernelspec": {
   "display_name": "Python 3",
   "language": "python",
   "name": "python3"
  },
  "language_info": {
   "codemirror_mode": {
    "name": "ipython",
    "version": 3
   },
   "file_extension": ".py",
   "mimetype": "text/x-python",
   "name": "python",
   "nbconvert_exporter": "python",
   "pygments_lexer": "ipython3",
   "version": "3.8.5"
  }
 },
 "nbformat": 4,
 "nbformat_minor": 4
}
