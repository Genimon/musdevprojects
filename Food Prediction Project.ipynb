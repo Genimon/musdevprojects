{
 "cells": [
  {
   "cell_type": "code",
   "execution_count": 42,
   "metadata": {},
   "outputs": [],
   "source": [
    "import numpy as np\n",
    "import pandas as pd\n",
    "import matplotlib.pyplot as plt\n",
    "import seaborn as sns"
   ]
  },
  {
   "cell_type": "code",
   "execution_count": 43,
   "metadata": {},
   "outputs": [],
   "source": [
    "%matplotlib inline"
   ]
  },
  {
   "cell_type": "markdown",
   "metadata": {},
   "source": [
    "### 1. Importing Dataset"
   ]
  },
  {
   "cell_type": "code",
   "execution_count": 3,
   "metadata": {},
   "outputs": [],
   "source": [
    "df = pd.read_csv('maize.csv')"
   ]
  },
  {
   "cell_type": "code",
   "execution_count": 4,
   "metadata": {},
   "outputs": [
    {
     "data": {
      "text/html": [
       "<div>\n",
       "<style scoped>\n",
       "    .dataframe tbody tr th:only-of-type {\n",
       "        vertical-align: middle;\n",
       "    }\n",
       "\n",
       "    .dataframe tbody tr th {\n",
       "        vertical-align: top;\n",
       "    }\n",
       "\n",
       "    .dataframe thead th {\n",
       "        text-align: right;\n",
       "    }\n",
       "</style>\n",
       "<table border=\"1\" class=\"dataframe\">\n",
       "  <thead>\n",
       "    <tr style=\"text-align: right;\">\n",
       "      <th></th>\n",
       "      <th>adm0_id</th>\n",
       "      <th>adm0_name</th>\n",
       "      <th>adm1_id</th>\n",
       "      <th>adm1_name</th>\n",
       "      <th>mkt_id</th>\n",
       "      <th>mkt_name</th>\n",
       "      <th>cm_id</th>\n",
       "      <th>cm_name</th>\n",
       "      <th>cur_id</th>\n",
       "      <th>cur_name</th>\n",
       "      <th>pt_id</th>\n",
       "      <th>pt_name</th>\n",
       "      <th>um_id</th>\n",
       "      <th>um_name</th>\n",
       "      <th>mp_month</th>\n",
       "      <th>mp_year</th>\n",
       "      <th>mp_price</th>\n",
       "      <th>mp_commoditysource</th>\n",
       "    </tr>\n",
       "  </thead>\n",
       "  <tbody>\n",
       "    <tr>\n",
       "      <th>0</th>\n",
       "      <td>205</td>\n",
       "      <td>Rwanda</td>\n",
       "      <td>21973</td>\n",
       "      <td>$West/Iburengerazuba</td>\n",
       "      <td>1045</td>\n",
       "      <td>Birambo</td>\n",
       "      <td>51</td>\n",
       "      <td>Maize</td>\n",
       "      <td>77</td>\n",
       "      <td>RWF</td>\n",
       "      <td>15</td>\n",
       "      <td>Retail</td>\n",
       "      <td>5</td>\n",
       "      <td>KG</td>\n",
       "      <td>11</td>\n",
       "      <td>2010</td>\n",
       "      <td>179.0000</td>\n",
       "      <td>MINAGRI</td>\n",
       "    </tr>\n",
       "    <tr>\n",
       "      <th>1</th>\n",
       "      <td>205</td>\n",
       "      <td>Rwanda</td>\n",
       "      <td>21973</td>\n",
       "      <td>$West/Iburengerazuba</td>\n",
       "      <td>1045</td>\n",
       "      <td>Birambo</td>\n",
       "      <td>51</td>\n",
       "      <td>Maize</td>\n",
       "      <td>77</td>\n",
       "      <td>RWF</td>\n",
       "      <td>15</td>\n",
       "      <td>Retail</td>\n",
       "      <td>5</td>\n",
       "      <td>KG</td>\n",
       "      <td>12</td>\n",
       "      <td>2010</td>\n",
       "      <td>189.6667</td>\n",
       "      <td>MINAGRI</td>\n",
       "    </tr>\n",
       "    <tr>\n",
       "      <th>2</th>\n",
       "      <td>205</td>\n",
       "      <td>Rwanda</td>\n",
       "      <td>21973</td>\n",
       "      <td>$West/Iburengerazuba</td>\n",
       "      <td>1045</td>\n",
       "      <td>Birambo</td>\n",
       "      <td>51</td>\n",
       "      <td>Maize</td>\n",
       "      <td>77</td>\n",
       "      <td>RWF</td>\n",
       "      <td>15</td>\n",
       "      <td>Retail</td>\n",
       "      <td>5</td>\n",
       "      <td>KG</td>\n",
       "      <td>1</td>\n",
       "      <td>2011</td>\n",
       "      <td>185.2500</td>\n",
       "      <td>MINAGRI</td>\n",
       "    </tr>\n",
       "    <tr>\n",
       "      <th>3</th>\n",
       "      <td>205</td>\n",
       "      <td>Rwanda</td>\n",
       "      <td>21973</td>\n",
       "      <td>$West/Iburengerazuba</td>\n",
       "      <td>1045</td>\n",
       "      <td>Birambo</td>\n",
       "      <td>51</td>\n",
       "      <td>Maize</td>\n",
       "      <td>77</td>\n",
       "      <td>RWF</td>\n",
       "      <td>15</td>\n",
       "      <td>Retail</td>\n",
       "      <td>5</td>\n",
       "      <td>KG</td>\n",
       "      <td>2</td>\n",
       "      <td>2011</td>\n",
       "      <td>187.0000</td>\n",
       "      <td>MINAGRI</td>\n",
       "    </tr>\n",
       "    <tr>\n",
       "      <th>4</th>\n",
       "      <td>205</td>\n",
       "      <td>Rwanda</td>\n",
       "      <td>21973</td>\n",
       "      <td>$West/Iburengerazuba</td>\n",
       "      <td>1045</td>\n",
       "      <td>Birambo</td>\n",
       "      <td>51</td>\n",
       "      <td>Maize</td>\n",
       "      <td>77</td>\n",
       "      <td>RWF</td>\n",
       "      <td>15</td>\n",
       "      <td>Retail</td>\n",
       "      <td>5</td>\n",
       "      <td>KG</td>\n",
       "      <td>3</td>\n",
       "      <td>2011</td>\n",
       "      <td>186.2000</td>\n",
       "      <td>MINAGRI</td>\n",
       "    </tr>\n",
       "    <tr>\n",
       "      <th>...</th>\n",
       "      <td>...</td>\n",
       "      <td>...</td>\n",
       "      <td>...</td>\n",
       "      <td>...</td>\n",
       "      <td>...</td>\n",
       "      <td>...</td>\n",
       "      <td>...</td>\n",
       "      <td>...</td>\n",
       "      <td>...</td>\n",
       "      <td>...</td>\n",
       "      <td>...</td>\n",
       "      <td>...</td>\n",
       "      <td>...</td>\n",
       "      <td>...</td>\n",
       "      <td>...</td>\n",
       "      <td>...</td>\n",
       "      <td>...</td>\n",
       "      <td>...</td>\n",
       "    </tr>\n",
       "    <tr>\n",
       "      <th>4019</th>\n",
       "      <td>205</td>\n",
       "      <td>Rwanda</td>\n",
       "      <td>21971</td>\n",
       "      <td>$North/Amajyaruguru</td>\n",
       "      <td>1562</td>\n",
       "      <td>Rusine</td>\n",
       "      <td>51</td>\n",
       "      <td>Maize</td>\n",
       "      <td>77</td>\n",
       "      <td>RWF</td>\n",
       "      <td>15</td>\n",
       "      <td>Retail</td>\n",
       "      <td>5</td>\n",
       "      <td>KG</td>\n",
       "      <td>12</td>\n",
       "      <td>2014</td>\n",
       "      <td>200.0000</td>\n",
       "      <td>MINAGRI</td>\n",
       "    </tr>\n",
       "    <tr>\n",
       "      <th>4020</th>\n",
       "      <td>205</td>\n",
       "      <td>Rwanda</td>\n",
       "      <td>21971</td>\n",
       "      <td>$North/Amajyaruguru</td>\n",
       "      <td>1562</td>\n",
       "      <td>Rusine</td>\n",
       "      <td>51</td>\n",
       "      <td>Maize</td>\n",
       "      <td>77</td>\n",
       "      <td>RWF</td>\n",
       "      <td>15</td>\n",
       "      <td>Retail</td>\n",
       "      <td>5</td>\n",
       "      <td>KG</td>\n",
       "      <td>1</td>\n",
       "      <td>2015</td>\n",
       "      <td>300.0000</td>\n",
       "      <td>MINAGRI</td>\n",
       "    </tr>\n",
       "    <tr>\n",
       "      <th>4021</th>\n",
       "      <td>205</td>\n",
       "      <td>Rwanda</td>\n",
       "      <td>21971</td>\n",
       "      <td>$North/Amajyaruguru</td>\n",
       "      <td>1562</td>\n",
       "      <td>Rusine</td>\n",
       "      <td>51</td>\n",
       "      <td>Maize</td>\n",
       "      <td>77</td>\n",
       "      <td>RWF</td>\n",
       "      <td>15</td>\n",
       "      <td>Retail</td>\n",
       "      <td>5</td>\n",
       "      <td>KG</td>\n",
       "      <td>3</td>\n",
       "      <td>2015</td>\n",
       "      <td>250.0000</td>\n",
       "      <td>MINAGRI</td>\n",
       "    </tr>\n",
       "    <tr>\n",
       "      <th>4022</th>\n",
       "      <td>205</td>\n",
       "      <td>Rwanda</td>\n",
       "      <td>21971</td>\n",
       "      <td>$North/Amajyaruguru</td>\n",
       "      <td>1562</td>\n",
       "      <td>Rusine</td>\n",
       "      <td>51</td>\n",
       "      <td>Maize</td>\n",
       "      <td>77</td>\n",
       "      <td>RWF</td>\n",
       "      <td>15</td>\n",
       "      <td>Retail</td>\n",
       "      <td>5</td>\n",
       "      <td>KG</td>\n",
       "      <td>6</td>\n",
       "      <td>2015</td>\n",
       "      <td>300.0000</td>\n",
       "      <td>MINAGRI</td>\n",
       "    </tr>\n",
       "    <tr>\n",
       "      <th>4023</th>\n",
       "      <td>205</td>\n",
       "      <td>Rwanda</td>\n",
       "      <td>21971</td>\n",
       "      <td>$North/Amajyaruguru</td>\n",
       "      <td>1562</td>\n",
       "      <td>Rusine</td>\n",
       "      <td>51</td>\n",
       "      <td>Maize</td>\n",
       "      <td>77</td>\n",
       "      <td>RWF</td>\n",
       "      <td>15</td>\n",
       "      <td>Retail</td>\n",
       "      <td>5</td>\n",
       "      <td>KG</td>\n",
       "      <td>7</td>\n",
       "      <td>2015</td>\n",
       "      <td>265.0000</td>\n",
       "      <td>MINAGRI</td>\n",
       "    </tr>\n",
       "  </tbody>\n",
       "</table>\n",
       "<p>4024 rows × 18 columns</p>\n",
       "</div>"
      ],
      "text/plain": [
       "      adm0_id adm0_name  adm1_id             adm1_name  mkt_id mkt_name  \\\n",
       "0         205    Rwanda    21973  $West/Iburengerazuba    1045  Birambo   \n",
       "1         205    Rwanda    21973  $West/Iburengerazuba    1045  Birambo   \n",
       "2         205    Rwanda    21973  $West/Iburengerazuba    1045  Birambo   \n",
       "3         205    Rwanda    21973  $West/Iburengerazuba    1045  Birambo   \n",
       "4         205    Rwanda    21973  $West/Iburengerazuba    1045  Birambo   \n",
       "...       ...       ...      ...                   ...     ...      ...   \n",
       "4019      205    Rwanda    21971   $North/Amajyaruguru    1562   Rusine   \n",
       "4020      205    Rwanda    21971   $North/Amajyaruguru    1562   Rusine   \n",
       "4021      205    Rwanda    21971   $North/Amajyaruguru    1562   Rusine   \n",
       "4022      205    Rwanda    21971   $North/Amajyaruguru    1562   Rusine   \n",
       "4023      205    Rwanda    21971   $North/Amajyaruguru    1562   Rusine   \n",
       "\n",
       "      cm_id cm_name  cur_id cur_name  pt_id pt_name  um_id um_name  mp_month  \\\n",
       "0        51   Maize      77      RWF     15  Retail      5      KG        11   \n",
       "1        51   Maize      77      RWF     15  Retail      5      KG        12   \n",
       "2        51   Maize      77      RWF     15  Retail      5      KG         1   \n",
       "3        51   Maize      77      RWF     15  Retail      5      KG         2   \n",
       "4        51   Maize      77      RWF     15  Retail      5      KG         3   \n",
       "...     ...     ...     ...      ...    ...     ...    ...     ...       ...   \n",
       "4019     51   Maize      77      RWF     15  Retail      5      KG        12   \n",
       "4020     51   Maize      77      RWF     15  Retail      5      KG         1   \n",
       "4021     51   Maize      77      RWF     15  Retail      5      KG         3   \n",
       "4022     51   Maize      77      RWF     15  Retail      5      KG         6   \n",
       "4023     51   Maize      77      RWF     15  Retail      5      KG         7   \n",
       "\n",
       "      mp_year  mp_price mp_commoditysource  \n",
       "0        2010  179.0000            MINAGRI  \n",
       "1        2010  189.6667            MINAGRI  \n",
       "2        2011  185.2500            MINAGRI  \n",
       "3        2011  187.0000            MINAGRI  \n",
       "4        2011  186.2000            MINAGRI  \n",
       "...       ...       ...                ...  \n",
       "4019     2014  200.0000            MINAGRI  \n",
       "4020     2015  300.0000            MINAGRI  \n",
       "4021     2015  250.0000            MINAGRI  \n",
       "4022     2015  300.0000            MINAGRI  \n",
       "4023     2015  265.0000            MINAGRI  \n",
       "\n",
       "[4024 rows x 18 columns]"
      ]
     },
     "execution_count": 4,
     "metadata": {},
     "output_type": "execute_result"
    }
   ],
   "source": [
    "df"
   ]
  },
  {
   "cell_type": "markdown",
   "metadata": {},
   "source": [
    "### 2. Data description"
   ]
  },
  {
   "cell_type": "code",
   "execution_count": 5,
   "metadata": {},
   "outputs": [
    {
     "data": {
      "text/html": [
       "<div>\n",
       "<style scoped>\n",
       "    .dataframe tbody tr th:only-of-type {\n",
       "        vertical-align: middle;\n",
       "    }\n",
       "\n",
       "    .dataframe tbody tr th {\n",
       "        vertical-align: top;\n",
       "    }\n",
       "\n",
       "    .dataframe thead th {\n",
       "        text-align: right;\n",
       "    }\n",
       "</style>\n",
       "<table border=\"1\" class=\"dataframe\">\n",
       "  <thead>\n",
       "    <tr style=\"text-align: right;\">\n",
       "      <th></th>\n",
       "      <th>adm0_id</th>\n",
       "      <th>adm0_name</th>\n",
       "      <th>adm1_id</th>\n",
       "      <th>adm1_name</th>\n",
       "      <th>mkt_id</th>\n",
       "      <th>mkt_name</th>\n",
       "      <th>cm_id</th>\n",
       "      <th>cm_name</th>\n",
       "      <th>cur_id</th>\n",
       "      <th>cur_name</th>\n",
       "      <th>pt_id</th>\n",
       "      <th>pt_name</th>\n",
       "      <th>um_id</th>\n",
       "      <th>um_name</th>\n",
       "      <th>mp_month</th>\n",
       "      <th>mp_year</th>\n",
       "      <th>mp_price</th>\n",
       "      <th>mp_commoditysource</th>\n",
       "    </tr>\n",
       "  </thead>\n",
       "  <tbody>\n",
       "    <tr>\n",
       "      <th>0</th>\n",
       "      <td>205</td>\n",
       "      <td>Rwanda</td>\n",
       "      <td>21973</td>\n",
       "      <td>$West/Iburengerazuba</td>\n",
       "      <td>1045</td>\n",
       "      <td>Birambo</td>\n",
       "      <td>51</td>\n",
       "      <td>Maize</td>\n",
       "      <td>77</td>\n",
       "      <td>RWF</td>\n",
       "      <td>15</td>\n",
       "      <td>Retail</td>\n",
       "      <td>5</td>\n",
       "      <td>KG</td>\n",
       "      <td>11</td>\n",
       "      <td>2010</td>\n",
       "      <td>179.0000</td>\n",
       "      <td>MINAGRI</td>\n",
       "    </tr>\n",
       "    <tr>\n",
       "      <th>1</th>\n",
       "      <td>205</td>\n",
       "      <td>Rwanda</td>\n",
       "      <td>21973</td>\n",
       "      <td>$West/Iburengerazuba</td>\n",
       "      <td>1045</td>\n",
       "      <td>Birambo</td>\n",
       "      <td>51</td>\n",
       "      <td>Maize</td>\n",
       "      <td>77</td>\n",
       "      <td>RWF</td>\n",
       "      <td>15</td>\n",
       "      <td>Retail</td>\n",
       "      <td>5</td>\n",
       "      <td>KG</td>\n",
       "      <td>12</td>\n",
       "      <td>2010</td>\n",
       "      <td>189.6667</td>\n",
       "      <td>MINAGRI</td>\n",
       "    </tr>\n",
       "    <tr>\n",
       "      <th>2</th>\n",
       "      <td>205</td>\n",
       "      <td>Rwanda</td>\n",
       "      <td>21973</td>\n",
       "      <td>$West/Iburengerazuba</td>\n",
       "      <td>1045</td>\n",
       "      <td>Birambo</td>\n",
       "      <td>51</td>\n",
       "      <td>Maize</td>\n",
       "      <td>77</td>\n",
       "      <td>RWF</td>\n",
       "      <td>15</td>\n",
       "      <td>Retail</td>\n",
       "      <td>5</td>\n",
       "      <td>KG</td>\n",
       "      <td>1</td>\n",
       "      <td>2011</td>\n",
       "      <td>185.2500</td>\n",
       "      <td>MINAGRI</td>\n",
       "    </tr>\n",
       "    <tr>\n",
       "      <th>3</th>\n",
       "      <td>205</td>\n",
       "      <td>Rwanda</td>\n",
       "      <td>21973</td>\n",
       "      <td>$West/Iburengerazuba</td>\n",
       "      <td>1045</td>\n",
       "      <td>Birambo</td>\n",
       "      <td>51</td>\n",
       "      <td>Maize</td>\n",
       "      <td>77</td>\n",
       "      <td>RWF</td>\n",
       "      <td>15</td>\n",
       "      <td>Retail</td>\n",
       "      <td>5</td>\n",
       "      <td>KG</td>\n",
       "      <td>2</td>\n",
       "      <td>2011</td>\n",
       "      <td>187.0000</td>\n",
       "      <td>MINAGRI</td>\n",
       "    </tr>\n",
       "    <tr>\n",
       "      <th>4</th>\n",
       "      <td>205</td>\n",
       "      <td>Rwanda</td>\n",
       "      <td>21973</td>\n",
       "      <td>$West/Iburengerazuba</td>\n",
       "      <td>1045</td>\n",
       "      <td>Birambo</td>\n",
       "      <td>51</td>\n",
       "      <td>Maize</td>\n",
       "      <td>77</td>\n",
       "      <td>RWF</td>\n",
       "      <td>15</td>\n",
       "      <td>Retail</td>\n",
       "      <td>5</td>\n",
       "      <td>KG</td>\n",
       "      <td>3</td>\n",
       "      <td>2011</td>\n",
       "      <td>186.2000</td>\n",
       "      <td>MINAGRI</td>\n",
       "    </tr>\n",
       "  </tbody>\n",
       "</table>\n",
       "</div>"
      ],
      "text/plain": [
       "   adm0_id adm0_name  adm1_id             adm1_name  mkt_id mkt_name  cm_id  \\\n",
       "0      205    Rwanda    21973  $West/Iburengerazuba    1045  Birambo     51   \n",
       "1      205    Rwanda    21973  $West/Iburengerazuba    1045  Birambo     51   \n",
       "2      205    Rwanda    21973  $West/Iburengerazuba    1045  Birambo     51   \n",
       "3      205    Rwanda    21973  $West/Iburengerazuba    1045  Birambo     51   \n",
       "4      205    Rwanda    21973  $West/Iburengerazuba    1045  Birambo     51   \n",
       "\n",
       "  cm_name  cur_id cur_name  pt_id pt_name  um_id um_name  mp_month  mp_year  \\\n",
       "0   Maize      77      RWF     15  Retail      5      KG        11     2010   \n",
       "1   Maize      77      RWF     15  Retail      5      KG        12     2010   \n",
       "2   Maize      77      RWF     15  Retail      5      KG         1     2011   \n",
       "3   Maize      77      RWF     15  Retail      5      KG         2     2011   \n",
       "4   Maize      77      RWF     15  Retail      5      KG         3     2011   \n",
       "\n",
       "   mp_price mp_commoditysource  \n",
       "0  179.0000            MINAGRI  \n",
       "1  189.6667            MINAGRI  \n",
       "2  185.2500            MINAGRI  \n",
       "3  187.0000            MINAGRI  \n",
       "4  186.2000            MINAGRI  "
      ]
     },
     "execution_count": 5,
     "metadata": {},
     "output_type": "execute_result"
    }
   ],
   "source": [
    "df.head()"
   ]
  },
  {
   "cell_type": "code",
   "execution_count": 6,
   "metadata": {},
   "outputs": [
    {
     "data": {
      "text/plain": [
       "(4024, 18)"
      ]
     },
     "execution_count": 6,
     "metadata": {},
     "output_type": "execute_result"
    }
   ],
   "source": [
    "df.shape"
   ]
  },
  {
   "cell_type": "code",
   "execution_count": null,
   "metadata": {},
   "outputs": [],
   "source": []
  },
  {
   "cell_type": "code",
   "execution_count": 7,
   "metadata": {},
   "outputs": [
    {
     "name": "stdout",
     "output_type": "stream",
     "text": [
      "<class 'pandas.core.frame.DataFrame'>\n",
      "RangeIndex: 4024 entries, 0 to 4023\n",
      "Data columns (total 18 columns):\n",
      " #   Column              Non-Null Count  Dtype  \n",
      "---  ------              --------------  -----  \n",
      " 0   adm0_id             4024 non-null   int64  \n",
      " 1   adm0_name           4024 non-null   object \n",
      " 2   adm1_id             4024 non-null   int64  \n",
      " 3   adm1_name           4024 non-null   object \n",
      " 4   mkt_id              4024 non-null   int64  \n",
      " 5   mkt_name            4024 non-null   object \n",
      " 6   cm_id               4024 non-null   int64  \n",
      " 7   cm_name             4024 non-null   object \n",
      " 8   cur_id              4024 non-null   int64  \n",
      " 9   cur_name            4024 non-null   object \n",
      " 10  pt_id               4024 non-null   int64  \n",
      " 11  pt_name             4024 non-null   object \n",
      " 12  um_id               4024 non-null   int64  \n",
      " 13  um_name             4024 non-null   object \n",
      " 14  mp_month            4024 non-null   int64  \n",
      " 15  mp_year             4024 non-null   int64  \n",
      " 16  mp_price            4024 non-null   float64\n",
      " 17  mp_commoditysource  4024 non-null   object \n",
      "dtypes: float64(1), int64(9), object(8)\n",
      "memory usage: 566.0+ KB\n"
     ]
    }
   ],
   "source": [
    "df.info()"
   ]
  },
  {
   "cell_type": "markdown",
   "metadata": {},
   "source": [
    "### 3. Cleaning Dataset"
   ]
  },
  {
   "cell_type": "code",
   "execution_count": 8,
   "metadata": {
    "scrolled": false
   },
   "outputs": [],
   "source": [
    "to_drop= ['cm_name', 'cur_id', 'cm_id', 'adm0_id', 'adm0_name', 'cur_name', 'pt_id', 'pt_name', 'um_id',\n",
    " 'mp_commoditysource','um_name']\n",
    "df.drop(columns= to_drop, inplace= True) \n",
    "\n",
    "#Dropping columns that have singular value all through."
   ]
  },
  {
   "cell_type": "code",
   "execution_count": 9,
   "metadata": {},
   "outputs": [
    {
     "data": {
      "text/html": [
       "<div>\n",
       "<style scoped>\n",
       "    .dataframe tbody tr th:only-of-type {\n",
       "        vertical-align: middle;\n",
       "    }\n",
       "\n",
       "    .dataframe tbody tr th {\n",
       "        vertical-align: top;\n",
       "    }\n",
       "\n",
       "    .dataframe thead th {\n",
       "        text-align: right;\n",
       "    }\n",
       "</style>\n",
       "<table border=\"1\" class=\"dataframe\">\n",
       "  <thead>\n",
       "    <tr style=\"text-align: right;\">\n",
       "      <th></th>\n",
       "      <th>adm1_id</th>\n",
       "      <th>adm1_name</th>\n",
       "      <th>mkt_id</th>\n",
       "      <th>mkt_name</th>\n",
       "      <th>mp_month</th>\n",
       "      <th>mp_year</th>\n",
       "      <th>mp_price</th>\n",
       "    </tr>\n",
       "  </thead>\n",
       "  <tbody>\n",
       "    <tr>\n",
       "      <th>0</th>\n",
       "      <td>21973</td>\n",
       "      <td>$West/Iburengerazuba</td>\n",
       "      <td>1045</td>\n",
       "      <td>Birambo</td>\n",
       "      <td>11</td>\n",
       "      <td>2010</td>\n",
       "      <td>179.0000</td>\n",
       "    </tr>\n",
       "    <tr>\n",
       "      <th>1</th>\n",
       "      <td>21973</td>\n",
       "      <td>$West/Iburengerazuba</td>\n",
       "      <td>1045</td>\n",
       "      <td>Birambo</td>\n",
       "      <td>12</td>\n",
       "      <td>2010</td>\n",
       "      <td>189.6667</td>\n",
       "    </tr>\n",
       "    <tr>\n",
       "      <th>2</th>\n",
       "      <td>21973</td>\n",
       "      <td>$West/Iburengerazuba</td>\n",
       "      <td>1045</td>\n",
       "      <td>Birambo</td>\n",
       "      <td>1</td>\n",
       "      <td>2011</td>\n",
       "      <td>185.2500</td>\n",
       "    </tr>\n",
       "    <tr>\n",
       "      <th>3</th>\n",
       "      <td>21973</td>\n",
       "      <td>$West/Iburengerazuba</td>\n",
       "      <td>1045</td>\n",
       "      <td>Birambo</td>\n",
       "      <td>2</td>\n",
       "      <td>2011</td>\n",
       "      <td>187.0000</td>\n",
       "    </tr>\n",
       "    <tr>\n",
       "      <th>4</th>\n",
       "      <td>21973</td>\n",
       "      <td>$West/Iburengerazuba</td>\n",
       "      <td>1045</td>\n",
       "      <td>Birambo</td>\n",
       "      <td>3</td>\n",
       "      <td>2011</td>\n",
       "      <td>186.2000</td>\n",
       "    </tr>\n",
       "    <tr>\n",
       "      <th>...</th>\n",
       "      <td>...</td>\n",
       "      <td>...</td>\n",
       "      <td>...</td>\n",
       "      <td>...</td>\n",
       "      <td>...</td>\n",
       "      <td>...</td>\n",
       "      <td>...</td>\n",
       "    </tr>\n",
       "    <tr>\n",
       "      <th>4019</th>\n",
       "      <td>21971</td>\n",
       "      <td>$North/Amajyaruguru</td>\n",
       "      <td>1562</td>\n",
       "      <td>Rusine</td>\n",
       "      <td>12</td>\n",
       "      <td>2014</td>\n",
       "      <td>200.0000</td>\n",
       "    </tr>\n",
       "    <tr>\n",
       "      <th>4020</th>\n",
       "      <td>21971</td>\n",
       "      <td>$North/Amajyaruguru</td>\n",
       "      <td>1562</td>\n",
       "      <td>Rusine</td>\n",
       "      <td>1</td>\n",
       "      <td>2015</td>\n",
       "      <td>300.0000</td>\n",
       "    </tr>\n",
       "    <tr>\n",
       "      <th>4021</th>\n",
       "      <td>21971</td>\n",
       "      <td>$North/Amajyaruguru</td>\n",
       "      <td>1562</td>\n",
       "      <td>Rusine</td>\n",
       "      <td>3</td>\n",
       "      <td>2015</td>\n",
       "      <td>250.0000</td>\n",
       "    </tr>\n",
       "    <tr>\n",
       "      <th>4022</th>\n",
       "      <td>21971</td>\n",
       "      <td>$North/Amajyaruguru</td>\n",
       "      <td>1562</td>\n",
       "      <td>Rusine</td>\n",
       "      <td>6</td>\n",
       "      <td>2015</td>\n",
       "      <td>300.0000</td>\n",
       "    </tr>\n",
       "    <tr>\n",
       "      <th>4023</th>\n",
       "      <td>21971</td>\n",
       "      <td>$North/Amajyaruguru</td>\n",
       "      <td>1562</td>\n",
       "      <td>Rusine</td>\n",
       "      <td>7</td>\n",
       "      <td>2015</td>\n",
       "      <td>265.0000</td>\n",
       "    </tr>\n",
       "  </tbody>\n",
       "</table>\n",
       "<p>4024 rows × 7 columns</p>\n",
       "</div>"
      ],
      "text/plain": [
       "      adm1_id             adm1_name  mkt_id mkt_name  mp_month  mp_year  \\\n",
       "0       21973  $West/Iburengerazuba    1045  Birambo        11     2010   \n",
       "1       21973  $West/Iburengerazuba    1045  Birambo        12     2010   \n",
       "2       21973  $West/Iburengerazuba    1045  Birambo         1     2011   \n",
       "3       21973  $West/Iburengerazuba    1045  Birambo         2     2011   \n",
       "4       21973  $West/Iburengerazuba    1045  Birambo         3     2011   \n",
       "...       ...                   ...     ...      ...       ...      ...   \n",
       "4019    21971   $North/Amajyaruguru    1562   Rusine        12     2014   \n",
       "4020    21971   $North/Amajyaruguru    1562   Rusine         1     2015   \n",
       "4021    21971   $North/Amajyaruguru    1562   Rusine         3     2015   \n",
       "4022    21971   $North/Amajyaruguru    1562   Rusine         6     2015   \n",
       "4023    21971   $North/Amajyaruguru    1562   Rusine         7     2015   \n",
       "\n",
       "      mp_price  \n",
       "0     179.0000  \n",
       "1     189.6667  \n",
       "2     185.2500  \n",
       "3     187.0000  \n",
       "4     186.2000  \n",
       "...        ...  \n",
       "4019  200.0000  \n",
       "4020  300.0000  \n",
       "4021  250.0000  \n",
       "4022  300.0000  \n",
       "4023  265.0000  \n",
       "\n",
       "[4024 rows x 7 columns]"
      ]
     },
     "execution_count": 9,
     "metadata": {},
     "output_type": "execute_result"
    }
   ],
   "source": [
    "df"
   ]
  },
  {
   "cell_type": "markdown",
   "metadata": {},
   "source": [
    "###### Normalizing the categorical data form to continous data form"
   ]
  },
  {
   "cell_type": "code",
   "execution_count": 10,
   "metadata": {},
   "outputs": [],
   "source": [
    "#Storing the \"mp_year\" value before normalizing it, so as to be able to recall it to the normal form for plotting\n",
    "\n",
    "year_dict= df['mp_year'].value_counts(normalize= True).to_dict()\n",
    "year_back= {}\n",
    "\n",
    "for year, freq in year_dict.items():\n",
    "    year_back[freq]= year"
   ]
  },
  {
   "cell_type": "code",
   "execution_count": 11,
   "metadata": {},
   "outputs": [],
   "source": [
    "#Using frequency encode function to normalize the dataset from categorical form to continous form\n",
    "\n",
    "def freq_enc(df, cols):\n",
    "    for col in cols:\n",
    "        df[col]= df[col].map(df[col].value_counts(normalize= True))\n",
    "    return df"
   ]
  },
  {
   "cell_type": "code",
   "execution_count": 12,
   "metadata": {
    "scrolled": true
   },
   "outputs": [
    {
     "data": {
      "text/html": [
       "<div>\n",
       "<style scoped>\n",
       "    .dataframe tbody tr th:only-of-type {\n",
       "        vertical-align: middle;\n",
       "    }\n",
       "\n",
       "    .dataframe tbody tr th {\n",
       "        vertical-align: top;\n",
       "    }\n",
       "\n",
       "    .dataframe thead th {\n",
       "        text-align: right;\n",
       "    }\n",
       "</style>\n",
       "<table border=\"1\" class=\"dataframe\">\n",
       "  <thead>\n",
       "    <tr style=\"text-align: right;\">\n",
       "      <th></th>\n",
       "      <th>adm1_id</th>\n",
       "      <th>adm1_name</th>\n",
       "      <th>mkt_id</th>\n",
       "      <th>mkt_name</th>\n",
       "      <th>mp_month</th>\n",
       "      <th>mp_year</th>\n",
       "      <th>mp_price</th>\n",
       "    </tr>\n",
       "  </thead>\n",
       "  <tbody>\n",
       "    <tr>\n",
       "      <th>0</th>\n",
       "      <td>0.240805</td>\n",
       "      <td>0.240805</td>\n",
       "      <td>0.015408</td>\n",
       "      <td>0.015408</td>\n",
       "      <td>0.085736</td>\n",
       "      <td>0.099901</td>\n",
       "      <td>179.0000</td>\n",
       "    </tr>\n",
       "    <tr>\n",
       "      <th>1</th>\n",
       "      <td>0.240805</td>\n",
       "      <td>0.240805</td>\n",
       "      <td>0.015408</td>\n",
       "      <td>0.015408</td>\n",
       "      <td>0.083250</td>\n",
       "      <td>0.099901</td>\n",
       "      <td>189.6667</td>\n",
       "    </tr>\n",
       "    <tr>\n",
       "      <th>2</th>\n",
       "      <td>0.240805</td>\n",
       "      <td>0.240805</td>\n",
       "      <td>0.015408</td>\n",
       "      <td>0.015408</td>\n",
       "      <td>0.082008</td>\n",
       "      <td>0.116054</td>\n",
       "      <td>185.2500</td>\n",
       "    </tr>\n",
       "    <tr>\n",
       "      <th>3</th>\n",
       "      <td>0.240805</td>\n",
       "      <td>0.240805</td>\n",
       "      <td>0.015408</td>\n",
       "      <td>0.015408</td>\n",
       "      <td>0.081262</td>\n",
       "      <td>0.116054</td>\n",
       "      <td>187.0000</td>\n",
       "    </tr>\n",
       "    <tr>\n",
       "      <th>4</th>\n",
       "      <td>0.240805</td>\n",
       "      <td>0.240805</td>\n",
       "      <td>0.015408</td>\n",
       "      <td>0.015408</td>\n",
       "      <td>0.083002</td>\n",
       "      <td>0.116054</td>\n",
       "      <td>186.2000</td>\n",
       "    </tr>\n",
       "    <tr>\n",
       "      <th>...</th>\n",
       "      <td>...</td>\n",
       "      <td>...</td>\n",
       "      <td>...</td>\n",
       "      <td>...</td>\n",
       "      <td>...</td>\n",
       "      <td>...</td>\n",
       "      <td>...</td>\n",
       "    </tr>\n",
       "    <tr>\n",
       "      <th>4019</th>\n",
       "      <td>0.235338</td>\n",
       "      <td>0.235338</td>\n",
       "      <td>0.004970</td>\n",
       "      <td>0.004970</td>\n",
       "      <td>0.083250</td>\n",
       "      <td>0.152584</td>\n",
       "      <td>200.0000</td>\n",
       "    </tr>\n",
       "    <tr>\n",
       "      <th>4020</th>\n",
       "      <td>0.235338</td>\n",
       "      <td>0.235338</td>\n",
       "      <td>0.004970</td>\n",
       "      <td>0.004970</td>\n",
       "      <td>0.082008</td>\n",
       "      <td>0.156809</td>\n",
       "      <td>300.0000</td>\n",
       "    </tr>\n",
       "    <tr>\n",
       "      <th>4021</th>\n",
       "      <td>0.235338</td>\n",
       "      <td>0.235338</td>\n",
       "      <td>0.004970</td>\n",
       "      <td>0.004970</td>\n",
       "      <td>0.083002</td>\n",
       "      <td>0.156809</td>\n",
       "      <td>250.0000</td>\n",
       "    </tr>\n",
       "    <tr>\n",
       "      <th>4022</th>\n",
       "      <td>0.235338</td>\n",
       "      <td>0.235338</td>\n",
       "      <td>0.004970</td>\n",
       "      <td>0.004970</td>\n",
       "      <td>0.085487</td>\n",
       "      <td>0.156809</td>\n",
       "      <td>300.0000</td>\n",
       "    </tr>\n",
       "    <tr>\n",
       "      <th>4023</th>\n",
       "      <td>0.235338</td>\n",
       "      <td>0.235338</td>\n",
       "      <td>0.004970</td>\n",
       "      <td>0.004970</td>\n",
       "      <td>0.086978</td>\n",
       "      <td>0.156809</td>\n",
       "      <td>265.0000</td>\n",
       "    </tr>\n",
       "  </tbody>\n",
       "</table>\n",
       "<p>4024 rows × 7 columns</p>\n",
       "</div>"
      ],
      "text/plain": [
       "       adm1_id  adm1_name    mkt_id  mkt_name  mp_month   mp_year  mp_price\n",
       "0     0.240805   0.240805  0.015408  0.015408  0.085736  0.099901  179.0000\n",
       "1     0.240805   0.240805  0.015408  0.015408  0.083250  0.099901  189.6667\n",
       "2     0.240805   0.240805  0.015408  0.015408  0.082008  0.116054  185.2500\n",
       "3     0.240805   0.240805  0.015408  0.015408  0.081262  0.116054  187.0000\n",
       "4     0.240805   0.240805  0.015408  0.015408  0.083002  0.116054  186.2000\n",
       "...        ...        ...       ...       ...       ...       ...       ...\n",
       "4019  0.235338   0.235338  0.004970  0.004970  0.083250  0.152584  200.0000\n",
       "4020  0.235338   0.235338  0.004970  0.004970  0.082008  0.156809  300.0000\n",
       "4021  0.235338   0.235338  0.004970  0.004970  0.083002  0.156809  250.0000\n",
       "4022  0.235338   0.235338  0.004970  0.004970  0.085487  0.156809  300.0000\n",
       "4023  0.235338   0.235338  0.004970  0.004970  0.086978  0.156809  265.0000\n",
       "\n",
       "[4024 rows x 7 columns]"
      ]
     },
     "execution_count": 12,
     "metadata": {},
     "output_type": "execute_result"
    }
   ],
   "source": [
    "freq_enc(df, df.columns[:-1])"
   ]
  },
  {
   "cell_type": "markdown",
   "metadata": {},
   "source": [
    "### 4. Plotting the price of maize"
   ]
  },
  {
   "cell_type": "markdown",
   "metadata": {},
   "source": [
    "##### Histogram & KDE plot"
   ]
  },
  {
   "cell_type": "code",
   "execution_count": 20,
   "metadata": {
    "scrolled": true
   },
   "outputs": [
    {
     "name": "stderr",
     "output_type": "stream",
     "text": [
      "C:\\Users\\USER\\anaconda3\\lib\\site-packages\\seaborn\\distributions.py:2551: FutureWarning: `distplot` is a deprecated function and will be removed in a future version. Please adapt your code to use either `displot` (a figure-level function with similar flexibility) or `histplot` (an axes-level function for histograms).\n",
      "  warnings.warn(msg, FutureWarning)\n"
     ]
    },
    {
     "data": {
      "image/png": "[encoded data removed]",
      "text/plain": [
       "<Figure size 1152x648 with 1 Axes>"
      ]
     },
     "metadata": {},
     "output_type": "display_data"
    }
   ],
   "source": [
    "sns.distplot(df['mp_price'])\n",
    "sns.set_style('darkgrid')\n",
    "plt.rcParams['figure.figsize']= (16, 9)"
   ]
  },
  {
   "cell_type": "markdown",
   "metadata": {},
   "source": [
    "##### Barplot"
   ]
  },
  {
   "cell_type": "code",
   "execution_count": 17,
   "metadata": {
    "scrolled": true
   },
   "outputs": [
    {
     "data": {
      "image/png": "[encoded data removed]",
      "text/plain": [
       "<Figure size 1152x648 with 1 Axes>"
      ]
     },
     "metadata": {},
     "output_type": "display_data"
    }
   ],
   "source": [
    "df['year_back']= df['mp_year'].map(year_back)\n",
    "sns.barplot(x= 'year_back', y= 'mp_price', data= df)\n",
    "plt.xticks(rotation= 45)\n",
    "\n",
    "\n",
    "sns.set_style('darkgrid')\n",
    "plt.rcParams['figure.figsize']= (16, 9)"
   ]
  },
  {
   "cell_type": "markdown",
   "metadata": {},
   "source": [
    "### 5. Preparing Data"
   ]
  },
  {
   "cell_type": "code",
   "execution_count": 15,
   "metadata": {},
   "outputs": [],
   "source": [
    "from sklearn.model_selection import train_test_split\n",
    "from sklearn.linear_model import LinearRegression\n",
    "from sklearn.ensemble import RandomForestRegressor\n",
    "from sklearn.metrics import mean_squared_error, mean_absolute_error\n",
    "from lightgbm import LGBMRegressor"
   ]
  },
  {
   "cell_type": "markdown",
   "metadata": {},
   "source": [
    "### 6. Training of Data"
   ]
  },
  {
   "cell_type": "markdown",
   "metadata": {},
   "source": [
    "##### Splitting of dataset into training and testing sets"
   ]
  },
  {
   "cell_type": "code",
   "execution_count": 22,
   "metadata": {},
   "outputs": [],
   "source": [
    "X= df.drop(columns= 'mp_price')\n",
    "y= df['mp_price']"
   ]
  },
  {
   "cell_type": "code",
   "execution_count": null,
   "metadata": {},
   "outputs": [],
   "source": []
  },
  {
   "cell_type": "code",
   "execution_count": 33,
   "metadata": {},
   "outputs": [],
   "source": [
    "X_train, X_test, y_train, y_test= train_test_split(X, y, test_size=0.2, random_state= 10) \n",
    "\n",
    "#The dataset is splitted into training and testing sets."
   ]
  },
  {
   "cell_type": "code",
   "execution_count": null,
   "metadata": {},
   "outputs": [],
   "source": []
  },
  {
   "cell_type": "code",
   "execution_count": 34,
   "metadata": {},
   "outputs": [],
   "source": [
    "#sns.heatmap(df.corr(method='spearman'))"
   ]
  },
  {
   "cell_type": "markdown",
   "metadata": {},
   "source": [
    "### 7. Building model function for the the various algorithms to be explore"
   ]
  },
  {
   "cell_type": "markdown",
   "metadata": {},
   "source": [
    "Writing a single function for each of the algorithms to be considered, the function is called for each respective functions instead of writing separately for each of the functions"
   ]
  },
  {
   "cell_type": "markdown",
   "metadata": {},
   "source": [
    "#### Fitter Model Function"
   ]
  },
  {
   "cell_type": "code",
   "execution_count": 85,
   "metadata": {},
   "outputs": [],
   "source": [
    "def fitter(model, X_train, X_test, y_train, y_test):\n",
    "    model.fit(X_train, y_train)\n",
    "    \n",
    "    pred_train= model.predict(X_train)\n",
    "    pred_test= model.predict(X_test)\n",
    "    \n",
    "    #Caculating the residuals\n",
    "    \n",
    "    mse_train= mean_squared_error(y_train, pred_train)\n",
    "    rmse_train= np.sqrt(mean_squared_error(y_train, pred_train))\n",
    "    mae_train= mean_absolute_error(y_train, pred_train)       \n",
    "    \n",
    "    mse_test= mean_squared_error(y_test, pred_test)\n",
    "    rmse_test= np.sqrt(mean_squared_error(y_test, pred_test))\n",
    "    mae_test= mean_absolute_error(y_test, pred_test)\n",
    "    \n",
    "    print(f'Train values\\n MAE: {mae_train}\\tRMSE: {rmse_train}\\nTest values\\n MAE: {mae_test}\\tRMSE: {rmse_test}')"
   ]
  },
  {
   "cell_type": "markdown",
   "metadata": {},
   "source": [
    "lr= LinearRegression()\n",
    "lr.fit(X_train, y_train)"
   ]
  },
  {
   "cell_type": "markdown",
   "metadata": {},
   "source": [
    "y_pred = lr.predict(X_test)\n",
    "y_pred"
   ]
  },
  {
   "cell_type": "markdown",
   "metadata": {},
   "source": [
    "plt.scatter(X_train,y_train) #color='purple')\n",
    "plt.plot(X_train, lr.predict(X_train)) #color= 'blue')\n",
    "plt.title('Pricce Predictions')\n",
    "plt.xlabel('Factors')\n",
    "plt.ylabel('Price of Maize')\n",
    "plt.show()"
   ]
  },
  {
   "cell_type": "markdown",
   "metadata": {},
   "source": []
  },
  {
   "cell_type": "markdown",
   "metadata": {},
   "source": [
    "#### Exploring different algorithms "
   ]
  },
  {
   "cell_type": "code",
   "execution_count": 81,
   "metadata": {},
   "outputs": [],
   "source": [
    "lr= LinearRegression()\n",
    "rf= RandomForestRegressor()\n",
    "lgb= LGBMRegressor(n_estimators= 200, lr= 0.1)"
   ]
  },
  {
   "cell_type": "markdown",
   "metadata": {},
   "source": [
    "###### Linear Regression Algorithm"
   ]
  },
  {
   "cell_type": "code",
   "execution_count": 86,
   "metadata": {
    "scrolled": true
   },
   "outputs": [
    {
     "name": "stdout",
     "output_type": "stream",
     "text": [
      "Train values\n",
      " MAE: 43.97767589866468\tRMSE: 58.728053876012495\n",
      "Test values\n",
      " MAE: 42.41144035524964\tRMSE: 53.77846160239148\n"
     ]
    }
   ],
   "source": [
    "fitter(lr, X_train, X_test, y_train, y_test)"
   ]
  },
  {
   "cell_type": "markdown",
   "metadata": {},
   "source": [
    "###### Random Forest Regressor Algorithm "
   ]
  },
  {
   "cell_type": "code",
   "execution_count": 87,
   "metadata": {
    "scrolled": true
   },
   "outputs": [
    {
     "name": "stdout",
     "output_type": "stream",
     "text": [
      "Train values\n",
      " MAE: 12.828272585472552\tRMSE: 19.96713400285463\n",
      "Test values\n",
      " MAE: 26.966721405448588\tRMSE: 36.68304494663286\n"
     ]
    }
   ],
   "source": [
    "fitter(rf, X_train, X_test, y_train, y_test)"
   ]
  },
  {
   "cell_type": "markdown",
   "metadata": {},
   "source": [
    "###### LGBM Regressor Algorithm"
   ]
  },
  {
   "cell_type": "code",
   "execution_count": 88,
   "metadata": {},
   "outputs": [
    {
     "name": "stdout",
     "output_type": "stream",
     "text": [
      "Train values\n",
      " MAE: 19.903353188544514\tRMSE: 29.38641624638399\n",
      "Test values\n",
      " MAE: 24.89801934025769\tRMSE: 34.52757114620536\n"
     ]
    }
   ],
   "source": [
    "lgb= LGBMRegressor(n_estimators= 250)\n",
    "fitter(lgb, X_train, X_test, y_train, y_test)"
   ]
  },
  {
   "cell_type": "code",
   "execution_count": null,
   "metadata": {},
   "outputs": [],
   "source": []
  }
 ],
 "metadata": {
  "kernelspec": {
   "display_name": "Python 3",
   "language": "python",
   "name": "python3"
  },
  "language_info": {
   "codemirror_mode": {
    "name": "ipython",
    "version": 3
   },
   "file_extension": ".py",
   "mimetype": "text/x-python",
   "name": "python",
   "nbconvert_exporter": "python",
   "pygments_lexer": "ipython3",
   "version": "3.8.5"
  }
 },
 "nbformat": 4,
 "nbformat_minor": 4
}
